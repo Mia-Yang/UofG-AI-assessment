{
 "cells": [
  {
   "cell_type": "code",
   "execution_count": 13,
   "metadata": {},
   "outputs": [
    {
     "name": "stdout",
     "output_type": "stream",
     "text": [
      "Working dir:/Users/deadfish/Desktop/MSc DataAnalytics/AI/Assessment/source\n",
      "Python version:3.6.8 |Anaconda, Inc.| (default, Dec 29 2018, 19:04:46) \n",
      "[GCC 4.2.1 Compatible Clang 4.0.1 (tags/RELEASE_401/final)]\n"
     ]
    }
   ],
   "source": [
    "import gym\n",
    "import numpy as np\n",
    "import time\n",
    "from uofgsocsai import LochLomondEnv # load the class defining the custom Open AI Gym problem\n",
    "import os, sys\n",
    "from helpers import *\n",
    "import matplotlib.pyplot as plt\n",
    "from more_itertools import chunked\n",
    "print(\"Working dir:\"+os.getcwd())\n",
    "print(\"Python version:\"+sys.version)"
   ]
  },
  {
   "cell_type": "code",
   "execution_count": 14,
   "metadata": {},
   "outputs": [],
   "source": [
    "\n",
    "# Setup the parameters for the specific problem (you can change all of these if you want to) \n",
    "problem_id = 7       # problem_id \\in [0:7] generates 8 diffrent problems on which you can train/fine-tune your agent \n",
    "reward_hole = 0     # should be less than or equal to 0.0 (you can fine tune this  depending on you RL agent choice)\n",
    "is_stochastic = True  # should be False for A-star (deterministic search) and True for the RL agent\n",
    "\n",
    "max_episodes = 2000  # you can decide you rerun the problem many times thus generating many episodes... you can learn from them all!\n",
    "max_iter_per_episode = 99 # you decide how many iterations/actions can be executed per episode\n"
   ]
  },
  {
   "cell_type": "code",
   "execution_count": 15,
   "metadata": {},
   "outputs": [],
   "source": [
    "#Generate the specific problem \n",
    "env = LochLomondEnv(problem_id=problem_id, is_stochastic=False,   reward_hole=reward_hole)"
   ]
  },
  {
   "cell_type": "code",
   "execution_count": 16,
   "metadata": {},
   "outputs": [
    {
     "name": "stdout",
     "output_type": "stream",
     "text": [
      "[[b'H' b'F' b'F' b'F' b'F' b'H' b'F' b'S']\n",
      " [b'F' b'F' b'F' b'F' b'F' b'F' b'F' b'F']\n",
      " [b'F' b'F' b'F' b'H' b'F' b'F' b'F' b'F']\n",
      " [b'F' b'F' b'F' b'F' b'F' b'H' b'F' b'F']\n",
      " [b'F' b'F' b'F' b'H' b'F' b'F' b'F' b'F']\n",
      " [b'F' b'H' b'H' b'F' b'F' b'F' b'H' b'F']\n",
      " [b'F' b'H' b'F' b'F' b'H' b'F' b'H' b'F']\n",
      " [b'F' b'F' b'F' b'H' b'F' b'F' b'F' b'G']]\n"
     ]
    }
   ],
   "source": [
    "# Let's visualize the problem/env\n",
    "print(env.desc)"
   ]
  },
  {
   "cell_type": "code",
   "execution_count": 17,
   "metadata": {},
   "outputs": [],
   "source": [
    "# Create a representation of the state space for use with AIMA A-star\n",
    "state_space_locations, state_space_actions, state_initial_id, state_goal_id = env2statespace(env)"
   ]
  },
  {
   "cell_type": "code",
   "execution_count": 18,
   "metadata": {},
   "outputs": [],
   "source": [
    "# Reset the random generator to a known state (for reproducability)\n",
    "np.random.seed(10)"
   ]
  },
  {
   "cell_type": "code",
   "execution_count": 19,
   "metadata": {
    "scrolled": false
   },
   "outputs": [
    {
     "name": "stdout",
     "output_type": "stream",
     "text": [
      "Score over time: 0.0105\n",
      "********Average rewards per 100 episodes********\n",
      "\n",
      "[0.02, 0.01, 0.01, 0.0, 0.03, 0.02, 0.01, 0.02, 0.0, 0.02, 0.0, 0.02, 0.01, 0.0, 0.01, 0.01, 0.01, 0.01, 0.0, 0.0]\n",
      "21\n",
      "1979\n"
     ]
    }
   ],
   "source": [
    "episode_rewards = []\n",
    "episode_step = []\n",
    "fail_times=0\n",
    "success_times=0\n",
    "\n",
    "for e in range(max_episodes): # iterate over episodes\n",
    "    rewards_current_episode = 0 #initial the rewards current episode\n",
    "    observation = env.reset() # reset the state of the env to the starting state     \n",
    "    \n",
    "    for iter in range(max_iter_per_episode):\n",
    "      #env.render() # for debugging/develeopment you may want to visualize the individual steps by uncommenting this line      \n",
    "      action = env.action_space.sample() # your agent goes here (the current agent takes random actions)\n",
    "      observation, reward, done, info = env.step(action) # observe what happends when you take the action\n",
    "      \n",
    "      # TODO: You'll need to add code here to collect the rewards for plotting/reporting in a suitable manner\n",
    "      rewards_current_episode += reward\n",
    "    \n",
    "      #print(\"e,iter,reward,done =\" + str(e) + \" \" + str(iter)+ \" \" + str(reward)+ \" \" + str(done))\n",
    "\n",
    "      # Check if we are done and monitor rewards etc...\n",
    "      if(done and reward==reward_hole): \n",
    "          #env.render()     \n",
    "          #print(\"We have reached a hole :-( [we can't move so stop trying; just give up]\")\n",
    "          fail_times += 1\n",
    "          break\n",
    "         \n",
    "      if (done and reward == +1.0):\n",
    "          #env.render()     \n",
    "          #print(\"We have reached the goal :-) [stop trying to move; we can't]. That's ok we have achived the goal]\")\n",
    "          success_times += 1\n",
    "          break       \n",
    "    episode_rewards.append(rewards_current_episode)\n",
    "    episode_step.append(iter)\n",
    "score =  sum(episode_rewards)/max_episodes  \n",
    "print(\"Score over time: \" +  str(score))\n",
    "\n",
    "average_rewards =[sum(x) / len(x) for x in chunked(episode_rewards, 100)]\n",
    "print(\"********Average rewards per 100 episodes********\\n\")\n",
    "print(average_rewards)\n",
    "\n",
    "print(success_times)\n",
    "print(fail_times)"
   ]
  },
  {
   "cell_type": "code",
   "execution_count": 8,
   "metadata": {},
   "outputs": [],
   "source": [
    "filename = \"random_out\"\n",
    "content =\"\\n Problem_\"+str(problem_id)+\"    Number of Success: \"+str(success_times)+\"   Score: \"+str(score)\n",
    "with open(filename+\".txt\", \"a\") as f:\n",
    "   f.write(str(content))"
   ]
  },
  {
   "cell_type": "code",
   "execution_count": 21,
   "metadata": {},
   "outputs": [
    {
     "data": {
      "image/png": "[encoded data removed]",
      "text/plain": [
       "<Figure size 432x288 with 1 Axes>"
      ]
     },
     "metadata": {
      "needs_background": "light"
     },
     "output_type": "display_data"
    }
   ],
   "source": [
    "x = np.arange(1,max_episodes+1,1)\n",
    "y = episode_rewards\n",
    "imgname = \"Random_plot_\"+str(problem_id)\n",
    "ax = plt.gca()\n",
    "\n",
    "ax.set_xlabel('episode')\n",
    "ax.set_ylabel('reward')\n",
    "plt.title(imgname)\n",
    "ax.scatter(x, y, s=10)\n",
    "\n",
    "plt.savefig(imgname)\n",
    "plt.show()\n"
   ]
  },
  {
   "cell_type": "code",
   "execution_count": null,
   "metadata": {},
   "outputs": [],
   "source": []
  },
  {
   "cell_type": "code",
   "execution_count": null,
   "metadata": {},
   "outputs": [],
   "source": []
  }
 ],
 "metadata": {
  "kernelspec": {
   "display_name": "Python 3",
   "language": "python",
   "name": "python3"
  },
  "language_info": {
   "codemirror_mode": {
    "name": "ipython",
    "version": 3
   },
   "file_extension": ".py",
   "mimetype": "text/x-python",
   "name": "python",
   "nbconvert_exporter": "python",
   "pygments_lexer": "ipython3",
   "version": "3.6.8"
  }
 },
 "nbformat": 4,
 "nbformat_minor": 2
}
